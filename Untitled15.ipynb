{
  "nbformat": 4,
  "nbformat_minor": 0,
  "metadata": {
    "colab": {
      "name": "Untitled15.ipynb",
      "provenance": [],
      "collapsed_sections": [],
      "authorship_tag": "ABX9TyMRXaQnvOrcodeMJXOv0ZrS",
      "include_colab_link": true
    },
    "kernelspec": {
      "name": "python3",
      "display_name": "Python 3"
    }
  },
  "cells": [
    {
      "cell_type": "markdown",
      "metadata": {
        "id": "view-in-github",
        "colab_type": "text"
      },
      "source": [
        "<a href=\"https://colab.research.google.com/github/HuyenNguyenHelen/Atolagbe-Olaoye_info5717/blob/master/Untitled15.ipynb\" target=\"_parent\"><img src=\"https://colab.research.google.com/assets/colab-badge.svg\" alt=\"Open In Colab\"/></a>"
      ]
    },
    {
      "cell_type": "code",
      "metadata": {
        "id": "_3ULaL64iAyc",
        "colab_type": "code",
        "colab": {
          "base_uri": "https://localhost:8080/",
          "height": 217
        },
        "outputId": "2e03cf15-922b-4bfb-d9fc-c3d4ea8f11e0"
      },
      "source": [
        "t=[\"banana\",\"fruit\",\"mango\", \"banana\",\"fruit\",\"mango\", \"banana\",\"fruit\",\"mango\", \"mon\", \"tue\", \"thu\"]\n",
        "c=[201,40,50, 80, 49, 28, 90, 40, 30, 20, 10, 90]\n",
        "list1=[]\n",
        "list2=[]\n",
        "list3=[]\n",
        "for j in range(0,len(t)):\n",
        "  for i in range (0,len(c)):\n",
        "    if t[j]==\"banana\":\n",
        "      list1.append(c[j])\n",
        "      break\n",
        "    elif t[j]==\"fruit\":\n",
        "      list2.append(c[j])\n",
        "      break\n",
        "    elif t[j]==\"mango\":\n",
        "      list3.append(c[j])\n",
        "      break\n",
        "    else:\n",
        "      pass\n",
        "      \n",
        "print( list1)\n",
        "print(list2)\n",
        "i=0\n",
        "while i+1<=len(c):\n",
        "  s=c[i+1]-c[i]\n",
        "  i+=1\n",
        "  if i+1 == len(c):\n",
        "    break\n",
        "  print(s)\n",
        "  \n"
      ],
      "execution_count": 48,
      "outputs": [
        {
          "output_type": "stream",
          "text": [
            "[201, 80, 90]\n",
            "[40, 49, 40]\n",
            "-161\n",
            "10\n",
            "30\n",
            "-31\n",
            "-21\n",
            "62\n",
            "-50\n",
            "-10\n",
            "-10\n",
            "-10\n"
          ],
          "name": "stdout"
        }
      ]
    },
    {
      "cell_type": "code",
      "metadata": {
        "id": "xOJRjSlXkoJ3",
        "colab_type": "code",
        "colab": {
          "base_uri": "https://localhost:8080/",
          "height": 33
        },
        "outputId": "413c7e6b-d79e-4156-c841-d02450b71314"
      },
      "source": [
        "t=[\"banana\",\"fruit\",\"mango\"]\n",
        "c=[201,40,50]\n",
        "t.index(\"banana\")\n",
        "t.index(\"mango\")"
      ],
      "execution_count": 6,
      "outputs": [
        {
          "output_type": "execute_result",
          "data": {
            "text/plain": [
              "2"
            ]
          },
          "metadata": {
            "tags": []
          },
          "execution_count": 6
        }
      ]
    }
  ]
}